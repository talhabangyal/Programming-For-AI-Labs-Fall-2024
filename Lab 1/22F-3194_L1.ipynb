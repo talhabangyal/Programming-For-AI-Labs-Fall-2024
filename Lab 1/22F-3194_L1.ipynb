{
 "cells": [
  {
   "cell_type": "code",
   "execution_count": 2,
   "id": "6e4d004e-901f-44c3-bd7c-b8e14792d7ec",
   "metadata": {},
   "outputs": [
    {
     "name": "stdout",
     "output_type": "stream",
     "text": [
      "Hello\n"
     ]
    }
   ],
   "source": [
    "print(\"Hello\")"
   ]
  },
  {
   "cell_type": "code",
   "execution_count": 3,
   "id": "37ece4e7-0c8a-4b16-8963-5b6fb561ba1d",
   "metadata": {},
   "outputs": [
    {
     "name": "stdout",
     "output_type": "stream",
     "text": [
      "Student Name:  Talha\n",
      "Roll Number:  22F-3194\n"
     ]
    }
   ],
   "source": [
    "name = \"Talha\"\n",
    "rollnumber = \"22F-3194\"\n",
    "print(\"Student Name: \", name)\n",
    "print(\"Roll Number: \", rollnumber)"
   ]
  },
  {
   "cell_type": "code",
   "execution_count": 5,
   "id": "fa03e16d-4da3-45b3-8990-bbf3086a4a35",
   "metadata": {},
   "outputs": [
    {
     "ename": "SyntaxError",
     "evalue": "invalid syntax (2810854082.py, line 1)",
     "output_type": "error",
     "traceback": [
      "\u001b[1;36m  Cell \u001b[1;32mIn[5], line 1\u001b[1;36m\u001b[0m\n\u001b[1;33m    if5> 2:\u001b[0m\n\u001b[1;37m          ^\u001b[0m\n\u001b[1;31mSyntaxError\u001b[0m\u001b[1;31m:\u001b[0m invalid syntax\n"
     ]
    }
   ],
   "source": [
    "if5> 2:\n",
    "    print(\"5 is greater\")"
   ]
  },
  {
   "cell_type": "code",
   "execution_count": 2,
   "id": "b9f26cf1-399a-4274-ad28-ad3b066beb41",
   "metadata": {},
   "outputs": [
    {
     "name": "stdout",
     "output_type": "stream",
     "text": [
      "5 is greater\n"
     ]
    }
   ],
   "source": [
    "if 5 > 2:\n",
    "    print(\"5 is greater\")"
   ]
  },
  {
   "cell_type": "code",
   "execution_count": 3,
   "id": "1baa15ee-a3ca-4753-bdfc-631776ab3f3e",
   "metadata": {},
   "outputs": [
    {
     "ename": "IndentationError",
     "evalue": "expected an indented block after 'if' statement on line 1 (4159070864.py, line 2)",
     "output_type": "error",
     "traceback": [
      "\u001b[1;36m  Cell \u001b[1;32mIn[3], line 2\u001b[1;36m\u001b[0m\n\u001b[1;33m    print(\"5 is greater\")\u001b[0m\n\u001b[1;37m    ^\u001b[0m\n\u001b[1;31mIndentationError\u001b[0m\u001b[1;31m:\u001b[0m expected an indented block after 'if' statement on line 1\n"
     ]
    }
   ],
   "source": [
    "if 5 > 2:\n",
    "print(\"5 is greater\")"
   ]
  },
  {
   "cell_type": "code",
   "execution_count": 2,
   "id": "5d9e490b-5ecd-4c4c-bd0a-de1578c4952e",
   "metadata": {},
   "outputs": [
    {
     "name": "stdout",
     "output_type": "stream",
     "text": [
      "7\n",
      "Talha\n"
     ]
    }
   ],
   "source": [
    "x=7\n",
    "y=\"Talha\"\n",
    "print(x)\n",
    "print(y)"
   ]
  },
  {
   "cell_type": "code",
   "execution_count": null,
   "id": "c5723ac4-9218-466f-97e7-03c151ea5d87",
   "metadata": {},
   "outputs": [],
   "source": []
  }
 ],
 "metadata": {
  "kernelspec": {
   "display_name": "Python 3 (ipykernel)",
   "language": "python",
   "name": "python3"
  },
  "language_info": {
   "codemirror_mode": {
    "name": "ipython",
    "version": 3
   },
   "file_extension": ".py",
   "mimetype": "text/x-python",
   "name": "python",
   "nbconvert_exporter": "python",
   "pygments_lexer": "ipython3",
   "version": "3.12.4"
  }
 },
 "nbformat": 4,
 "nbformat_minor": 5
}
