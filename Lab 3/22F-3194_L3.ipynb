{
 "cells": [
  {
   "cell_type": "code",
   "execution_count": 3,
   "id": "79d6096a",
   "metadata": {},
   "outputs": [
    {
     "name": "stdout",
     "output_type": "stream",
     "text": [
      "Printing current and previous number sum in a range 14\n",
      "Current Number  0  Previous Number  0  Sum:  0\n",
      "Current Number  1  Previous Number  0  Sum:  1\n",
      "Current Number  2  Previous Number  1  Sum:  3\n",
      "Current Number  3  Previous Number  2  Sum:  5\n",
      "Current Number  4  Previous Number  3  Sum:  7\n",
      "Current Number  5  Previous Number  4  Sum:  9\n",
      "Current Number  6  Previous Number  5  Sum:  11\n",
      "Current Number  7  Previous Number  6  Sum:  13\n",
      "Current Number  8  Previous Number  7  Sum:  15\n",
      "Current Number  9  Previous Number  8  Sum:  17\n",
      "Current Number  10  Previous Number  9  Sum:  19\n",
      "Current Number  11  Previous Number  10  Sum:  21\n",
      "Current Number  12  Previous Number  11  Sum:  23\n",
      "Current Number  13  Previous Number  12  Sum:  25\n"
     ]
    }
   ],
   "source": [
    "#Question 1\n",
    "print(\"Printing current and previous number sum in a range 14\")\n",
    "p_num=0\n",
    "sum=0\n",
    "for i in range(0,14):\n",
    "    sum=i+p_num\n",
    "    print(\"Current Number \", i ,\" Previous Number \", p_num ,\" Sum: \", sum)\n",
    "    p_num=i"
   ]
  },
  {
   "cell_type": "code",
   "execution_count": 33,
   "id": "bffa5e11",
   "metadata": {},
   "outputs": [
    {
     "name": "stdout",
     "output_type": "stream",
     "text": [
      "London\n",
      "Istanbul\n",
      "Houston\n",
      "Rome\n"
     ]
    }
   ],
   "source": [
    "#Question 2\n",
    "list=[\"London\",\"Istanbul\",\"Houston\",\"Rome\"]\n",
    "for i in list:\n",
    "    print(i)"
   ]
  },
  {
   "cell_type": "code",
   "execution_count": 11,
   "id": "433e7526",
   "metadata": {},
   "outputs": [
    {
     "name": "stdout",
     "output_type": "stream",
     "text": [
      "Please enter the name; London\n",
      "Name found!\n"
     ]
    }
   ],
   "source": [
    "#Question 3\n",
    "list=[\"London\",\"Istanbul\",\"Houston\",\"Rome\"]\n",
    "name=input(\"Please enter the name; \")\n",
    "for i in list:\n",
    "    if i==name:\n",
    "        print(\"Name found!\")\n",
    "        break\n",
    "    else:\n",
    "        print(\"Name not found!\")\n",
    "        continue"
   ]
  },
  {
   "cell_type": "code",
   "execution_count": null,
   "id": "1172bbf6",
   "metadata": {},
   "outputs": [
    {
     "name": "stdout",
     "output_type": "stream",
     "text": [
      "Enter a number: 156\n"
     ]
    }
   ],
   "source": [
    "#Question 4\n",
    "# num=int(input(\"Enter a number: \"))\n",
    "# divide=0\n",
    "# count=0\n",
    "# while divide<10:\n",
    "#     divde=num%3\n",
    "#     count+=1\n",
    "# print(count)"
   ]
  },
  {
   "cell_type": "code",
   "execution_count": null,
   "id": "2a7e6dee",
   "metadata": {},
   "outputs": [],
   "source": [
    "#Question 5\n"
   ]
  },
  {
   "cell_type": "code",
   "execution_count": 40,
   "id": "51b7a373",
   "metadata": {},
   "outputs": [
    {
     "name": "stdout",
     "output_type": "stream",
     "text": [
      "Enter a number to print even and odd: 20\n",
      "Odd number is:  1\n",
      "Even number is:  2\n",
      "Odd number is:  3\n",
      "Even number is:  4\n",
      "Odd number is:  5\n",
      "Even number is:  6\n",
      "Odd number is:  7\n",
      "Even number is:  8\n",
      "Odd number is:  9\n",
      "Even number is:  10\n",
      "Odd number is:  11\n",
      "Even number is:  12\n",
      "Odd number is:  13\n",
      "Even number is:  14\n",
      "Odd number is:  15\n",
      "Even number is:  16\n",
      "Odd number is:  17\n",
      "Even number is:  18\n",
      "Odd number is:  19\n"
     ]
    }
   ],
   "source": [
    "#Question 6\n",
    "number=int(input(\"Enter a number to print even and odd: \"))\n",
    "for i in range(1,number):\n",
    "    if i % 2==0:\n",
    "        print(\"Even number is: \", i)\n",
    "    else:\n",
    "        print(\"Odd number is: \", i)"
   ]
  },
  {
   "cell_type": "code",
   "execution_count": 47,
   "id": "1dbfcf18",
   "metadata": {},
   "outputs": [
    {
     "name": "stdout",
     "output_type": "stream",
     "text": [
      "Enter a string: tal125ha\n",
      "t a l "
     ]
    }
   ],
   "source": [
    "#Question 7\n",
    "str=input(\"Enter a string: \")\n",
    "i=0\n",
    "while i<len(str):\n",
    "    if str[i].isalpha():\n",
    "        print(str[i], end=\" \")\n",
    "    else:\n",
    "        break\n",
    "    i+=1"
   ]
  },
  {
   "cell_type": "code",
   "execution_count": 42,
   "id": "539bb467",
   "metadata": {},
   "outputs": [
    {
     "name": "stdout",
     "output_type": "stream",
     "text": [
      "Enter a string: talha123\n",
      "t a l h a "
     ]
    }
   ],
   "source": [
    "#Question 8\n",
    "str=input(\"Enter a string: \")\n",
    "i=0\n",
    "while i<len(str):\n",
    "    if str[i].isalpha():\n",
    "        print(str[i], end=\" \")\n",
    "    i+=1"
   ]
  },
  {
   "cell_type": "code",
   "execution_count": 35,
   "id": "6a4b2d0e",
   "metadata": {},
   "outputs": [
    {
     "name": "stdout",
     "output_type": "stream",
     "text": [
      "+\n",
      "+ +\n",
      "+ + +\n",
      "+ + + +\n",
      "+ + + + +\n"
     ]
    }
   ],
   "source": [
    "#Question 9\n",
    "for i in range(1,6):\n",
    "    for j in range(1,i):\n",
    "        print(\"+\", end=\" \")\n",
    "    print(\"+\")"
   ]
  },
  {
   "cell_type": "code",
   "execution_count": 8,
   "id": "7a0a9278",
   "metadata": {},
   "outputs": [
    {
     "name": "stdout",
     "output_type": "stream",
     "text": [
      "20 19 18 17 16 15 14 13 12 11 10 9 8 7 6 5 4 3 2 1 "
     ]
    }
   ],
   "source": [
    "#Question 10\n",
    "num=20\n",
    "while num>=1:\n",
    "    print(num, end=\" \")\n",
    "    num-=1"
   ]
  },
  {
   "cell_type": "code",
   "execution_count": 19,
   "id": "c9863e53",
   "metadata": {},
   "outputs": [
    {
     "name": "stdout",
     "output_type": "stream",
     "text": [
      "Enter a number: 75869\n",
      "5\n"
     ]
    }
   ],
   "source": [
    "#Question 11\n",
    "number=int(input(\"Enter a number: \"))\n",
    "i=0\n",
    "while number>0:\n",
    "    number%10==0\n",
    "    i+=1\n",
    "    number //=10\n",
    "print(i)"
   ]
  },
  {
   "cell_type": "code",
   "execution_count": 38,
   "id": "2687194c",
   "metadata": {},
   "outputs": [
    {
     "name": "stdout",
     "output_type": "stream",
     "text": [
      "1\n",
      "1 2\n",
      "1 2 3\n",
      "1 2 3 4\n",
      "1 2 3 4 5\n"
     ]
    }
   ],
   "source": [
    "#Question 12\n",
    "for i in range(1,6):\n",
    "    for j in range(1,i):\n",
    "        print(j, end=\" \")\n",
    "    print(i)"
   ]
  },
  {
   "cell_type": "code",
   "execution_count": 22,
   "id": "ce8a02ed",
   "metadata": {},
   "outputs": [
    {
     "name": "stdout",
     "output_type": "stream",
     "text": [
      "Enter a number that you want ot get the sum of numbers: 10\n",
      "1 2 3 4 5 6 7 8 9 10 55\n"
     ]
    }
   ],
   "source": [
    "#Question 13\n",
    "number=int(input(\"Enter a number that you want ot get the sum of numbers: \"))\n",
    "x=0\n",
    "for i in range(1,number+1):\n",
    "    print(i, end=\" \")\n",
    "    x=x+i\n",
    "print(x)"
   ]
  },
  {
   "cell_type": "code",
   "execution_count": 19,
   "id": "e15ce211",
   "metadata": {},
   "outputs": [
    {
     "name": "stdout",
     "output_type": "stream",
     "text": [
      "Enter a number that you want to get the table: 2\n",
      "2  *  1  =  2\n",
      "2  *  2  =  4\n",
      "2  *  3  =  6\n",
      "2  *  4  =  8\n",
      "2  *  5  =  10\n",
      "2  *  6  =  12\n",
      "2  *  7  =  14\n",
      "2  *  8  =  16\n",
      "2  *  9  =  18\n",
      "2  *  10  =  20\n"
     ]
    }
   ],
   "source": [
    "#Question 14\n",
    "number=int(input(\"Enter a number that you want to get the table: \"))\n",
    "for i in range(1,10+1):\n",
    "    table=i*number\n",
    "    print(number ,\" * \", i ,\" = \", table)"
   ]
  },
  {
   "cell_type": "code",
   "execution_count": 55,
   "id": "d76eddd0",
   "metadata": {},
   "outputs": [
    {
     "name": "stdout",
     "output_type": "stream",
     "text": [
      "Divisor found\n"
     ]
    }
   ],
   "source": [
    "#Question 15\n",
    "list=[5,7,49,66,48,55,17]\n",
    "for i in list:\n",
    "    if i%7==0:\n",
    "        print(\"Divisor found\")\n",
    "        break\n",
    "    else:\n",
    "        continue"
   ]
  },
  {
   "cell_type": "code",
   "execution_count": 17,
   "id": "50973bf5",
   "metadata": {},
   "outputs": [
    {
     "name": "stdout",
     "output_type": "stream",
     "text": [
      "Enter a number that you want ot get the sum of numbers: 10\n",
      "1 2 3 4 5 6 7 8 9 10 55\n"
     ]
    }
   ],
   "source": [
    "#Question 16\n",
    "number=int(input(\"Enter a number that you want ot get the sum of numbers: \"))\n",
    "x=0\n",
    "for i in range(1,number+1):\n",
    "    print(i, end=\" \")\n",
    "    x=x+i\n",
    "print(x)"
   ]
  },
  {
   "cell_type": "code",
   "execution_count": 57,
   "id": "8f72c80d",
   "metadata": {},
   "outputs": [
    {
     "name": "stdout",
     "output_type": "stream",
     "text": [
      "Enter a numbers to calculate the count of numbers: 75869\n",
      "5\n"
     ]
    }
   ],
   "source": [
    "#Question 17\n",
    "number=int(input(\"Enter a numbers to calculate the count of numbers: \"))\n",
    "count=0\n",
    "while number>0:\n",
    "    number%10==0\n",
    "    count+=1\n",
    "    number //=10\n",
    "print(count)"
   ]
  },
  {
   "cell_type": "code",
   "execution_count": 14,
   "id": "066ec24a",
   "metadata": {},
   "outputs": [
    {
     "name": "stdout",
     "output_type": "stream",
     "text": [
      "50\n",
      "40\n",
      "30\n",
      "20\n",
      "10\n"
     ]
    }
   ],
   "source": [
    "#Question 18\n",
    "list=[10,20,30,40,50]\n",
    "for i in list[::-1]:\n",
    "    print(i)"
   ]
  },
  {
   "cell_type": "code",
   "execution_count": null,
   "id": "719e749f",
   "metadata": {},
   "outputs": [],
   "source": []
  }
 ],
 "metadata": {
  "kernelspec": {
   "display_name": "Python 3 (ipykernel)",
   "language": "python",
   "name": "python3"
  },
  "language_info": {
   "codemirror_mode": {
    "name": "ipython",
    "version": 3
   },
   "file_extension": ".py",
   "mimetype": "text/x-python",
   "name": "python",
   "nbconvert_exporter": "python",
   "pygments_lexer": "ipython3",
   "version": "3.11.5"
  }
 },
 "nbformat": 4,
 "nbformat_minor": 5
}
