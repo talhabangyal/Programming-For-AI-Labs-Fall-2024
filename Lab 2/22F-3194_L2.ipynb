{
 "cells": [
  {
   "cell_type": "code",
   "execution_count": 1,
   "id": "8b89af73-a25d-45c2-95a1-b5a3194b24d3",
   "metadata": {},
   "outputs": [
    {
     "name": "stdin",
     "output_type": "stream",
     "text": [
      "Enter a length of rectangle:  4\n",
      "Enter a width of rectangle:  2\n"
     ]
    },
    {
     "name": "stdout",
     "output_type": "stream",
     "text": [
      "Area of rectangle is:  8\n"
     ]
    }
   ],
   "source": [
    "#Question 1\n",
    "length=int(input(\"Enter a length of rectangle: \"))\n",
    "width=int(input(\"Enter a width of rectangle: \"))\n",
    "area = length * width\n",
    "print(\"Area of rectangle is: \",area)"
   ]
  },
  {
   "cell_type": "code",
   "execution_count": 4,
   "id": "e8fcec44-65a0-4c85-af3b-eafde54ed760",
   "metadata": {},
   "outputs": [
    {
     "name": "stdin",
     "output_type": "stream",
     "text": [
      "Enter a marks of Math:  75.6\n",
      "Enter a marks of Science:  66.3\n",
      "Enter a marks of English:  85\n",
      "Enter a marks of Urdu:  67.4\n"
     ]
    },
    {
     "name": "stdout",
     "output_type": "stream",
     "text": [
      "Percentage is:  73.57499999999999\n"
     ]
    }
   ],
   "source": [
    "#Question 2\n",
    "Math=float(input(\"Enter a marks of Math: \"))\n",
    "Science=float(input(\"Enter a marks of Science: \"))\n",
    "English=float(input(\"Enter a marks of English: \"))\n",
    "Urdu=float(input(\"Enter a marks of Urdu: \"))\n",
    "Obtained=Math+Science+English+Urdu\n",
    "Percentage = (Obtained / 400) * 100\n",
    "print(\"Percentage is: \", Percentage)"
   ]
  },
  {
   "cell_type": "code",
   "execution_count": 5,
   "id": "6fd7fb57-9aa6-4e9f-bf2c-3010ca71db79",
   "metadata": {},
   "outputs": [
    {
     "name": "stdin",
     "output_type": "stream",
     "text": [
      "Enter a amount that you want to invest:  45000\n",
      "Enter a number of years:  4\n"
     ]
    },
    {
     "name": "stdout",
     "output_type": "stream",
     "text": [
      "Intrest rate is:  13500.0\n"
     ]
    }
   ],
   "source": [
    "#Question 3\n",
    "Amount=float(input(\"Enter a amount that you want to invest: \"))\n",
    "Years=int(input(\"Enter a number of years: \"))\n",
    "Rate=7.5\n",
    "Interest=Amount*Years*Rate/100\n",
    "print(\"Intrest rate is: \", Interest)"
   ]
  },
  {
   "cell_type": "code",
   "execution_count": 6,
   "id": "abd85f75-829b-4c38-a477-fa7c0050a07e",
   "metadata": {},
   "outputs": [
    {
     "name": "stdin",
     "output_type": "stream",
     "text": [
      "Enter a tempreture in Fahrenheit:  153.4\n"
     ]
    },
    {
     "name": "stdout",
     "output_type": "stream",
     "text": [
      "Tempreture in Celcius is:  67.44444444444446\n"
     ]
    }
   ],
   "source": [
    "#Question 4\n",
    "F=float(input(\"Enter a tempreture in Fahrenheit: \"))\n",
    "C=5/9*(F-32)\n",
    "print(\"Tempreture in Celcius is: \", C)"
   ]
  },
  {
   "cell_type": "code",
   "execution_count": 8,
   "id": "65100165-9cab-4d28-801d-b3015e68ed9b",
   "metadata": {},
   "outputs": [
    {
     "name": "stdin",
     "output_type": "stream",
     "text": [
      "Enter a length of rectangle:  6\n",
      "Enter a width of rectangle:  2\n"
     ]
    },
    {
     "name": "stdout",
     "output_type": "stream",
     "text": [
      "Perimeter of rectangle is:  24\n"
     ]
    }
   ],
   "source": [
    "#Question 5\n",
    "length=int(input(\"Enter a length of rectangle: \"))\n",
    "width=int(input(\"Enter a width of rectangle: \"))\n",
    "Perimeter = 2 * (length * width)\n",
    "print(\"Perimeter of rectangle is: \", Perimeter)"
   ]
  },
  {
   "cell_type": "code",
   "execution_count": 10,
   "id": "9c858272-31e5-4bc5-b8de-b9aee43c6157",
   "metadata": {},
   "outputs": [
    {
     "name": "stdin",
     "output_type": "stream",
     "text": [
      "Enter the price of shirt:  550\n"
     ]
    },
    {
     "name": "stdout",
     "output_type": "stream",
     "text": [
      "The discount is:  55.0\n",
      "The price after discount is:  495.0\n"
     ]
    }
   ],
   "source": [
    "#Question 6\n",
    "price=int(input(\"Enter the price of shirt: \"))\n",
    "amount=price*0.10\n",
    "print(\"The discount is: \",amount)\n",
    "discount=price-amount\n",
    "print(\"The price after discount is: \",discount)"
   ]
  },
  {
   "cell_type": "code",
   "execution_count": 12,
   "id": "c5abdce1-4ed5-4a8d-aa8d-0bfaed881a90",
   "metadata": {},
   "outputs": [
    {
     "name": "stdin",
     "output_type": "stream",
     "text": [
      "Enter retail price:  600\n",
      "Enter sales tax rate (as a decimal, e.g. 0.08 for 8%):  0.10\n"
     ]
    },
    {
     "name": "stdout",
     "output_type": "stream",
     "text": [
      "Total Sale is:  660.0\n",
      "Sales tax is:  60.0\n"
     ]
    }
   ],
   "source": [
    "#Question 7\n",
    "retail = float(input(\"Enter retail price: \"))\n",
    "tax = float(input(\"Enter sales tax rate (as a decimal, e.g. 0.08 for 8%): \"))\n",
    "sales_tax=retail*tax\n",
    "print(\"Total Sale is: \",retail+sales_tax)\n",
    "print(\"Sales tax is: \",sales_tax)"
   ]
  },
  {
   "cell_type": "code",
   "execution_count": 15,
   "id": "adfef6d3-f2a0-4817-bb59-0bbadd5e9f99",
   "metadata": {},
   "outputs": [
    {
     "name": "stdin",
     "output_type": "stream",
     "text": [
      "Enter the deposit amount:  40000\n",
      "Enter the widraw amount:  3000\n"
     ]
    },
    {
     "name": "stdout",
     "output_type": "stream",
     "text": [
      "The current balance is:  37000\n"
     ]
    }
   ],
   "source": [
    "#Question 8\n",
    "deposit=int(input(\"Enter the deposit amount: \"))\n",
    "widraw=int(input(\"Enter the widraw amount: \"))\n",
    "current=deposit-widraw\n",
    "print(\"The current balance is: \",current)"
   ]
  },
  {
   "cell_type": "code",
   "execution_count": 18,
   "id": "c92fc071-700c-4c9c-bdc5-d508489eab5a",
   "metadata": {},
   "outputs": [
    {
     "name": "stdin",
     "output_type": "stream",
     "text": [
      "Enter your age:  20\n"
     ]
    },
    {
     "name": "stdout",
     "output_type": "stream",
     "text": [
      "you are eligible for vote casting\n"
     ]
    }
   ],
   "source": [
    "#Question 9\n",
    "age=int(input(\"Enter your age: \"))\n",
    "if age>=18:\n",
    "    print(\"you are eligible for vote casting\")\n",
    "else:\n",
    "    print(\"You are not eligible for vote casting\")"
   ]
  },
  {
   "cell_type": "code",
   "execution_count": 20,
   "id": "c865d3eb-f1d2-471d-830b-ca1110bd0916",
   "metadata": {},
   "outputs": [
    {
     "name": "stdin",
     "output_type": "stream",
     "text": [
      "Enter your bill amount:  250\n"
     ]
    },
    {
     "name": "stdout",
     "output_type": "stream",
     "text": [
      "Your total bill is:  360.0\n"
     ]
    }
   ],
   "source": [
    "#Question 10\n",
    "unit = float(input(\"Enter your bill amount: \"))\n",
    "\n",
    "if unit <= 50:\n",
    "    bill = 0.50 * unit\n",
    "elif unit <= 150:\n",
    "    bill = 0.75 * unit\n",
    "elif unit <= 250:\n",
    "    bill = 1.20 * unit\n",
    "else:\n",
    "    bill = 1.50 * unit\n",
    "\n",
    "surcharge = bill * 0.20\n",
    "total_bill = bill + surcharge\n",
    "\n",
    "print(\"Your total bill is: \",total_bill)"
   ]
  },
  {
   "cell_type": "code",
   "execution_count": 21,
   "id": "078e6536-221c-46c6-b76b-e95afa29214b",
   "metadata": {},
   "outputs": [
    {
     "name": "stdin",
     "output_type": "stream",
     "text": [
      "Enter the number of sides:  0\n",
      "Enter the radius of circle:  44\n"
     ]
    },
    {
     "name": "stdout",
     "output_type": "stream",
     "text": [
      "Area of circle is:  6079.04\n"
     ]
    }
   ],
   "source": [
    "#Question 11\n",
    "sides = int(input(\"Enter the number of sides: \"))\n",
    "if sides == 0:\n",
    "    radius = float(input(\"Enter the radius of circle: \"))\n",
    "    area = 3.14 * radius * radius\n",
    "    print(\"Area of circle is: \",area)\n",
    "elif sides == 3:\n",
    "    height = float(input(\"Enter the height of triangle: \"))\n",
    "    base = float(input(\"Enter the base of triangle: \"))\n",
    "    area = (height * base) / 2\n",
    "    print(\"Area of triangle is: \",area)\n",
    "elif sides == 4:\n",
    "    length = float(input(\"Enter the length of rectangle: \"))\n",
    "    width = float(input(\"Enter the width of rectangle: \"))\n",
    "    area = length * width\n",
    "    print(\"Area of rectangle is: \",area)\n",
    "else:\n",
    "    print(\"Invalid number of sides. Please enter 0 for circle, 3 for triangle, or 4 for rectangle.\")"
   ]
  },
  {
   "cell_type": "code",
   "execution_count": 22,
   "id": "4d384078-8541-46f1-9053-19b686999bb9",
   "metadata": {},
   "outputs": [
    {
     "name": "stdin",
     "output_type": "stream",
     "text": [
      "Enter a number:  55\n"
     ]
    },
    {
     "name": "stdout",
     "output_type": "stream",
     "text": [
      "55 is not a perfect number\n"
     ]
    }
   ],
   "source": [
    "#Question 12\n",
    "perfect_no = int(input(\"Enter a number: \"))\n",
    "temp = 0\n",
    "for i in range(1, perfect_no):\n",
    "    if perfect_no % i == 0:\n",
    "        temp += i\n",
    "\n",
    "if temp == perfect_no:\n",
    "    print(perfect_no, \"is a perfect number\")\n",
    "else:\n",
    "    print(perfect_no, \"is not a perfect number\")"
   ]
  },
  {
   "cell_type": "code",
   "execution_count": null,
   "id": "bdefaf39-3d61-43df-9a90-c4a1e3bd8488",
   "metadata": {},
   "outputs": [],
   "source": [
    "#Question 13"
   ]
  },
  {
   "cell_type": "code",
   "execution_count": null,
   "id": "906a24b7-f469-4a95-9bb2-261f60806a0c",
   "metadata": {},
   "outputs": [],
   "source": [
    "#Question 14"
   ]
  }
 ],
 "metadata": {
  "kernelspec": {
   "display_name": "Python 3 (ipykernel)",
   "language": "python",
   "name": "python3"
  },
  "language_info": {
   "codemirror_mode": {
    "name": "ipython",
    "version": 3
   },
   "file_extension": ".py",
   "mimetype": "text/x-python",
   "name": "python",
   "nbconvert_exporter": "python",
   "pygments_lexer": "ipython3",
   "version": "3.12.4"
  }
 },
 "nbformat": 4,
 "nbformat_minor": 5
}
