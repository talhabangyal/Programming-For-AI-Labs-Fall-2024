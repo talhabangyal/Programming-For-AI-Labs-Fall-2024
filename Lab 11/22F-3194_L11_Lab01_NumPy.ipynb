{
 "cells": [
  {
   "cell_type": "markdown",
   "id": "d0d4a2ef",
   "metadata": {},
   "source": [
    "### Package Imports"
   ]
  },
  {
   "cell_type": "code",
   "execution_count": 1,
   "id": "dbd96293",
   "metadata": {},
   "outputs": [],
   "source": [
    "import numpy as np"
   ]
  },
  {
   "cell_type": "markdown",
   "id": "3a5e9bd3",
   "metadata": {},
   "source": [
    "# Assignment 1: Array Basics\n",
    "\n",
    "Hi there,\n",
    "\n",
    "Can you import Numpy and convert the following list comprehension (I just learned about comprehensions in an awesome course by Maven) into an array?\n",
    "\n",
    "Once you've done that report the following about the array:\n",
    "* The number of dimensions \n",
    "* The shape\n",
    "* The number of elements in the array\n",
    "* The type of data contained inside"
   ]
  },
  {
   "cell_type": "code",
   "execution_count": 35,
   "id": "6d3f8d99",
   "metadata": {},
   "outputs": [],
   "source": [
    "my_list = [x * 10 for x in range(1, 11)]\n",
    "my_array = np.array(my_list)"
   ]
  },
  {
   "cell_type": "code",
   "execution_count": 36,
   "id": "ac0d2c7b",
   "metadata": {},
   "outputs": [],
   "source": [
    "dimensions = my_array.ndim\n",
    "shape = my_array.shape"
   ]
  },
  {
   "cell_type": "code",
   "execution_count": 37,
   "id": "49d55877",
   "metadata": {},
   "outputs": [],
   "source": [
    "elements = my_array.size\n",
    "dtype = my_array.dtype"
   ]
  },
  {
   "cell_type": "code",
   "execution_count": 38,
   "id": "7b50a227",
   "metadata": {},
   "outputs": [
    {
     "name": "stdout",
     "output_type": "stream",
     "text": [
      "1\n",
      "(10,)\n"
     ]
    }
   ],
   "source": [
    "print(dimensions) \n",
    "print(shape)"
   ]
  },
  {
   "cell_type": "code",
   "execution_count": 39,
   "id": "6c5d9bd1",
   "metadata": {},
   "outputs": [
    {
     "name": "stdout",
     "output_type": "stream",
     "text": [
      "10\n",
      "int32\n"
     ]
    }
   ],
   "source": [
    "print(elements) \n",
    "print(dtype)"
   ]
  },
  {
   "cell_type": "markdown",
   "id": "8ff92bb7",
   "metadata": {},
   "source": [
    "# Assignment 2: Array Creation\n",
    "\n",
    "Thanks for your help with the first piece - I'm starting to understand some of the key differences between base Python data types and NumPy arrays. \n",
    "\n",
    "Does NumPy have anything like the range() function from base Python?\n",
    "\n",
    "If so: \n",
    "* create the same array from assignment 1 using a NumPy function. \n",
    "* Make it 5 rows and 2 columns. \n",
    "* It's ok if the datatype is float or int."
   ]
  },
  {
   "cell_type": "code",
   "execution_count": 41,
   "id": "81839e0f",
   "metadata": {},
   "outputs": [
    {
     "data": {
      "text/plain": [
       "array([[ 10,  20],\n",
       "       [ 30,  40],\n",
       "       [ 50,  60],\n",
       "       [ 70,  80],\n",
       "       [ 90, 100]])"
      ]
     },
     "execution_count": 41,
     "metadata": {},
     "output_type": "execute_result"
    }
   ],
   "source": [
    "array = my_array.reshape(5, 2)\n",
    "array"
   ]
  },
  {
   "cell_type": "markdown",
   "id": "e0849aa4",
   "metadata": {},
   "source": [
    "Looking good so far! One of our data scientists asked about random number generation in NumPy.\n",
    "\n",
    "Can you create a 3x3 array of random numbers between 0 and 1? Use a random state of 2022.\n",
    "\n",
    "Store the random array in a variable called `random_array`."
   ]
  },
  {
   "cell_type": "code",
   "execution_count": 44,
   "id": "a2e29128",
   "metadata": {},
   "outputs": [
    {
     "data": {
      "text/plain": [
       "array([[0.24742606, 0.09299006, 0.61176337],\n",
       "       [0.06066207, 0.66103343, 0.75515778],\n",
       "       [0.1108689 , 0.04305584, 0.41441747]])"
      ]
     },
     "execution_count": 44,
     "metadata": {},
     "output_type": "execute_result"
    }
   ],
   "source": [
    "rang = np.random.default_rng(2022)\n",
    "random_array = rang.random((3, 3))\n",
    "random_array"
   ]
  },
  {
   "cell_type": "markdown",
   "id": "6927e8b0",
   "metadata": {},
   "source": [
    "# Assignment 3: Accessing Array Data\n",
    "\n",
    "\n",
    "Slice and index the `random_array` we created in the previous exercise. Perform the following:\n",
    "\n",
    "* Grab the first two 'rows' of the array\n",
    "* Grab the entire first column\n",
    "* Finally, grab the second selement of the third row.\n",
    "\n",
    "Thanks!\n"
   ]
  },
  {
   "cell_type": "code",
   "execution_count": 51,
   "id": "62a4e208",
   "metadata": {},
   "outputs": [],
   "source": [
    "first_two_rows = random_array[:2, :]"
   ]
  },
  {
   "cell_type": "code",
   "execution_count": 52,
   "id": "8f9e9acf",
   "metadata": {
    "scrolled": true
   },
   "outputs": [],
   "source": [
    "first_column = random_array[:, 0]"
   ]
  },
  {
   "cell_type": "code",
   "execution_count": 53,
   "id": "87fa83f7",
   "metadata": {},
   "outputs": [],
   "source": [
    "second_element_third_row = random_array[2, 1]"
   ]
  },
  {
   "cell_type": "code",
   "execution_count": 54,
   "id": "fe985696",
   "metadata": {},
   "outputs": [
    {
     "name": "stdout",
     "output_type": "stream",
     "text": [
      "[[0.24742606 0.09299006 0.61176337]\n",
      " [0.06066207 0.66103343 0.75515778]]\n",
      "[0.24742606 0.06066207 0.1108689 ]\n",
      "0.04305584439252108\n"
     ]
    }
   ],
   "source": [
    "print(first_two_rows)\n",
    "print(first_column)\n",
    "print(second_element_third_row"
   ]
  },
  {
   "cell_type": "markdown",
   "id": "6e9ae36a",
   "metadata": {},
   "source": [
    "# Assignment 4: Arithmetic Operations"
   ]
  },
  {
   "cell_type": "markdown",
   "id": "b7283da4",
   "metadata": {},
   "source": [
    "The creativity of our marketing team knows no bounds!\n",
    "\n",
    "They've asked us to come up with a simple algorithm to provide a random discount to our list of prices below. \n",
    "\n",
    "Before we do that, \n",
    "\n",
    "* Add a 5 dollar shipping fee to each price. Call this array `total`.\n",
    "\n",
    "Once we have that, we want to use the random_array created in assignment 2 and apply them to the 6 prices.\n",
    "\n",
    "* Grab the first 6 numbers from `random_array`, reshape it to one dimension. Call this `discount_pct`.\n",
    "* Subtract `discount_pct` FROM 1, store this in `pct_owed`.\n",
    "* Multiply `pct_owed` by `total` to get the final amount owed."
   ]
  },
  {
   "cell_type": "code",
   "execution_count": 65,
   "id": "f44773da",
   "metadata": {},
   "outputs": [],
   "source": [
    "prices = np.array([5.99, 6.99, 22.49, 99.99, 4.99, 49.99])"
   ]
  },
  {
   "cell_type": "code",
   "execution_count": 66,
   "id": "9171609a",
   "metadata": {},
   "outputs": [],
   "source": [
    "shipping_fee = 5\n",
    "total = prices + shipping_fee\n",
    "discount_pct = random_array.flatten()[:6]"
   ]
  },
  {
   "cell_type": "code",
   "execution_count": 67,
   "id": "a06dbc29",
   "metadata": {},
   "outputs": [],
   "source": [
    "pct_owed = 1 - discount_pct\n",
    "final_amount_owed = pct_owed * total"
   ]
  },
  {
   "cell_type": "code",
   "execution_count": 68,
   "id": "da03368e",
   "metadata": {},
   "outputs": [
    {
     "name": "stdout",
     "output_type": "stream",
     "text": [
      "[ 10.99  11.99  27.49 104.99   9.99  54.99]\n",
      "[0.24742606 0.09299006 0.61176337 0.06066207 0.66103343 0.75515778]\n",
      "[0.75257394 0.90700994 0.38823663 0.93933793 0.33896657 0.24484222]\n",
      "[ 8.27078756 10.87504916 10.67262487 98.6210889   3.38627605 13.4638738 ]\n"
     ]
    }
   ],
   "source": [
    "print(total)\n",
    "print(discount_pct)\n",
    "print(pct_owed)\n",
    "print(final_amount_owed)"
   ]
  },
  {
   "cell_type": "markdown",
   "id": "30400903",
   "metadata": {},
   "source": [
    "# Assignment 5: Filtering Arrays\n",
    "\n",
    "Filter the product array to only include those with prices greater than 25.\n",
    "\n",
    "Modify your logic to include cola, despite it not having a price greater than 25. \n",
    "Store the elements returned in an array called `fancy_feast_special`.\n",
    "\n",
    "Next, create a shipping cost array where the cost is 0 if price is greater than 20, and 5 if not. "
   ]
  },
  {
   "cell_type": "code",
   "execution_count": 70,
   "id": "c144c432",
   "metadata": {},
   "outputs": [
    {
     "data": {
      "text/plain": [
       "array(['salad', 'bread', 'mustard', 'rare tomato', 'cola',\n",
       "       'gourmet ice cream'], dtype='<U17')"
      ]
     },
     "execution_count": 70,
     "metadata": {},
     "output_type": "execute_result"
    }
   ],
   "source": [
    "products = np.array([\"salad\", \"bread\", \"mustard\", \"rare tomato\", \"cola\", \"gourmet ice cream\"])\n",
    "products"
   ]
  },
  {
   "cell_type": "code",
   "execution_count": 71,
   "id": "ba1b077b",
   "metadata": {},
   "outputs": [],
   "source": [
    "fancy_feast_special = products[prices > 25]\n",
    "fancy_feast_special = np.append(fancy_feast_special, \"cola\")"
   ]
  },
  {
   "cell_type": "code",
   "execution_count": 72,
   "id": "4002705c",
   "metadata": {},
   "outputs": [],
   "source": [
    "shipping_costs = np.where(prices > 20, 0, 5)"
   ]
  },
  {
   "cell_type": "code",
   "execution_count": 73,
   "id": "4a8368d4",
   "metadata": {},
   "outputs": [
    {
     "name": "stdout",
     "output_type": "stream",
     "text": [
      "Fancy Feast Special: ['rare tomato' 'gourmet ice cream' 'cola']\n",
      "Shipping Costs: [5 5 0 0 5 0]\n"
     ]
    }
   ],
   "source": [
    "print(\"Fancy Feast Special:\", fancy_feast_special)\n",
    "print(\"Shipping Costs:\", shipping_costs)"
   ]
  },
  {
   "cell_type": "markdown",
   "id": "44ce04ed",
   "metadata": {},
   "source": [
    "# Assignment 6: Aggregating and Sorting Arrays\n",
    "\n",
    "First, grab the top 3 highest priced items in our list. \n",
    "\n",
    "Then, calculated the mean, min, max, and median of the top three prices.\n",
    "\n",
    "Finally, calculate the number of unique price tiers in our `price_tiers` array."
   ]
  },
  {
   "cell_type": "code",
   "execution_count": null,
   "id": "f97f4598",
   "metadata": {},
   "outputs": [],
   "source": [
    "prices = np.array([5.99, 6.99, 22.49, 99.99, 4.99, 49.99])\n",
    "prices"
   ]
  },
  {
   "cell_type": "code",
   "execution_count": null,
   "id": "c462eeef",
   "metadata": {},
   "outputs": [],
   "source": [
    "top_prices = np.sort(prices)[-3:]\n",
    "print(top_prices)"
   ]
  },
  {
   "cell_type": "code",
   "execution_count": 78,
   "id": "4a0b5694",
   "metadata": {},
   "outputs": [],
   "source": [
    "mean_price = np.mean(top_prices)\n",
    "min_price = np.min(top_prices)\n",
    "max_price = np.max(top_prices)\n",
    "median_price = np.median(top_prices)"
   ]
  },
  {
   "cell_type": "code",
   "execution_count": null,
   "id": "de696f1a",
   "metadata": {},
   "outputs": [],
   "source": [
    "print(mean_price)\n",
    "print(min_price)\n",
    "print(max_price)\n",
    "print(median_price)"
   ]
  },
  {
   "cell_type": "code",
   "execution_count": 81,
   "id": "b9087568",
   "metadata": {},
   "outputs": [],
   "source": [
    "price_tiers = np.array([\"budget\", \"budget\", \"mid-tier\", \"luxury\", \"mid-tier\", \"luxury\"])"
   ]
  },
  {
   "cell_type": "code",
   "execution_count": 82,
   "id": "6b6e2292",
   "metadata": {},
   "outputs": [
    {
     "name": "stdout",
     "output_type": "stream",
     "text": [
      "['budget' 'luxury' 'mid-tier']\n",
      "3\n"
     ]
    }
   ],
   "source": [
    "unique_tiers = np.unique(price_tiers)\n",
    "number_of_unique_tiers = len(unique_tiers)\n",
    "print(unique_tiers)\n",
    "print(number_of_unique_tiers)"
   ]
  },
  {
   "cell_type": "markdown",
   "id": "31b66238",
   "metadata": {},
   "source": [
    "# Assignment 7: Bringing it All Together\n",
    "\n",
    "Ok, final NumPy task - let's read in some data with the help of Pandas.\n",
    "\n",
    "Our data scientist provided the code to read in a csv as a Pandas dataframe, and has converted the two columns of interest to arrays.\n",
    "\n",
    "* Filter `sales_array` down to only sales where the product family was produce. \n",
    "\n",
    "* Then, randomly sample roughly half (random number < .5) of the produce sales and report the mean and median sales. Use a random seed of 2022.\n",
    "\n",
    "* Finally, create a new array that has the values 'above_both', 'above_median', and 'below_both' based on whether the sales were above the median and mean of the sample, just above the median of the sample, or below both the median and mean of the sample. "
   ]
  },
  {
   "cell_type": "code",
   "execution_count": 38,
   "id": "5b567c99",
   "metadata": {},
   "outputs": [],
   "source": [
    "import pandas as pd\n",
    "import numpy as np\n",
    "\n",
    "retail_df = pd.read_csv(\"retail_2016_2017.csv\", skiprows=range(1, 11000), nrows=1000)\n",
    "family_array = np.array(retail_df[\"family\"])\n",
    "sales_array = np.array(retail_df[\"sales\"])"
   ]
  },
  {
   "cell_type": "code",
   "execution_count": 30,
   "id": "a0424a65",
   "metadata": {},
   "outputs": [],
   "source": [
    "produce_sales = sales_array[family_array == \"PRODUCE\"]"
   ]
  },
  {
   "cell_type": "code",
   "execution_count": 31,
   "id": "96eaf423",
   "metadata": {},
   "outputs": [],
   "source": [
    "np.random.seed(2022)\n",
    "sample_mask = np.random.rand(len(produce_sales)) < 0.5\n",
    "sampled_sales = produce_sales[sample_mask]"
   ]
  },
  {
   "cell_type": "code",
   "execution_count": 32,
   "id": "432041d4",
   "metadata": {},
   "outputs": [],
   "source": [
    "mean_sales = np.mean(sampled_sales)\n",
    "median_sales = np.median(sampled_sales)"
   ]
  },
  {
   "cell_type": "code",
   "execution_count": 33,
   "id": "e0186438",
   "metadata": {},
   "outputs": [
    {
     "name": "stdout",
     "output_type": "stream",
     "text": [
      "1792.235133333333\n",
      "1155.385\n"
     ]
    }
   ],
   "source": [
    "print(mean_sales)\n",
    "print(median_sales)"
   ]
  },
  {
   "cell_type": "code",
   "execution_count": 34,
   "id": "33c9a16a",
   "metadata": {},
   "outputs": [],
   "source": [
    "conditions = np.where((sampled_sales > mean_sales) & (sampled_sales > median_sales), \n",
    "                      'above_both', np.where(sampled_sales > median_sales, 'above_median', 'below_both'))"
   ]
  },
  {
   "cell_type": "code",
   "execution_count": 35,
   "id": "2aebf230",
   "metadata": {},
   "outputs": [
    {
     "name": "stdout",
     "output_type": "stream",
     "text": [
      "['above_median' 'below_both' 'above_both' 'below_both' 'below_both'\n",
      " 'below_both' 'below_both' 'below_both' 'below_both' 'above_both'\n",
      " 'above_both' 'above_both' 'above_both' 'below_both' 'above_both']\n"
     ]
    }
   ],
   "source": [
    "print(conditions)"
   ]
  },
  {
   "cell_type": "code",
   "execution_count": null,
   "id": "98c513aa",
   "metadata": {},
   "outputs": [],
   "source": []
  }
 ],
 "metadata": {
  "kernelspec": {
   "display_name": "Python 3 (ipykernel)",
   "language": "python",
   "name": "python3"
  },
  "language_info": {
   "codemirror_mode": {
    "name": "ipython",
    "version": 3
   },
   "file_extension": ".py",
   "mimetype": "text/x-python",
   "name": "python",
   "nbconvert_exporter": "python",
   "pygments_lexer": "ipython3",
   "version": "3.11.4"
  }
 },
 "nbformat": 4,
 "nbformat_minor": 5
}
