{
 "cells": [
  {
   "cell_type": "code",
   "execution_count": 2,
   "id": "5f908863",
   "metadata": {
    "scrolled": true
   },
   "outputs": [
    {
     "name": "stdout",
     "output_type": "stream",
     "text": [
      "The largest number in a string is: 55\n"
     ]
    }
   ],
   "source": [
    "# Question 1: Write a Python program to get the largest number from a list.\n",
    "list=[10,5,6,8,2,48,55,7]\n",
    "print(\"The largest number in a string is:\",max(list))"
   ]
  },
  {
   "cell_type": "code",
   "execution_count": null,
   "id": "1a2ba83d",
   "metadata": {},
   "outputs": [],
   "source": [
    "# Question no 2: Write a Python program to count the number of strings where the string length is 2 or more and the first and last character are same from a given list of strings.\n"
   ]
  },
  {
   "cell_type": "code",
   "execution_count": 13,
   "id": "8390faa3",
   "metadata": {},
   "outputs": [
    {
     "name": "stdout",
     "output_type": "stream",
     "text": [
      "Updated list after removing 0, 4th and 5th value:  [5, 6, 8, 55, 7]\n"
     ]
    }
   ],
   "source": [
    "# Question 3: Write a Python program to print a specified list after removing the 0th, 4th and 5th elements.\n",
    "list=[10,5,6,8,2,48,55,7]\n",
    "list.pop(5)\n",
    "list.pop(4)\n",
    "list.pop(0)\n",
    "print(\"Updated list after removing 0, 4th and 5th value: \", list)"
   ]
  },
  {
   "cell_type": "code",
   "execution_count": 11,
   "id": "fcb2c810",
   "metadata": {
    "scrolled": true
   },
   "outputs": [
    {
     "name": "stdout",
     "output_type": "stream",
     "text": [
      "8\n"
     ]
    }
   ],
   "source": [
    "#Question 4 Write a Python program to access the index of a list.\n",
    "list=[10,5,6,8,2,48,55,7]\n",
    "print(list[3])"
   ]
  },
  {
   "cell_type": "code",
   "execution_count": 25,
   "id": "ba5dcc63",
   "metadata": {
    "scrolled": true
   },
   "outputs": [
    {
     "name": "stdout",
     "output_type": "stream",
     "text": [
      "Enter a value: 7\n",
      "The index of value is:  7\n"
     ]
    }
   ],
   "source": [
    "# Question 5: Write a Python program to find the index of an item in a specified list.\n",
    "list=[10,5,6,8,2,48,55,7]\n",
    "val=int(input(\"Enter a value: \"))\n",
    "print(\"The index of value is: \",list.index(val))"
   ]
  },
  {
   "cell_type": "code",
   "execution_count": null,
   "id": "1c31e2b1",
   "metadata": {},
   "outputs": [],
   "source": [
    "#Question no 6: Write a Python program to insert an element in a given list after every nth position.\n",
    "list1=[1, 2, 3, 4, 5, 6, 7, 8, 9, 0]\n",
    "ind=2\n",
    "for i in list1:\n",
    "    list1.insert(ind,\"a\")\n",
    "    ind+=2\n",
    "print(list1)"
   ]
  },
  {
   "cell_type": "code",
   "execution_count": null,
   "id": "b7642407",
   "metadata": {},
   "outputs": [],
   "source": [
    "# Question 11: Write a program to select Random value from list of lists.\n",
    "import random\n",
    "list=[[7, 2, 3, 4, 7], [9, 2, 3, 2, 5], [8, 2, 3, 4, 4]]\n",
    "print(\"Random number is: \", random.choice(list))"
   ]
  },
  {
   "cell_type": "code",
   "execution_count": null,
   "id": "df0753d9",
   "metadata": {},
   "outputs": [],
   "source": [
    "#Question 10: Write a program to reverse All Strings in String List.\n",
    "list = [\"Talha\", \"Bangyal\", \"is\", \"studying\", \"python\"]\n",
    "print (\"The original list is : \" , str(list))\n",
    "res = [i[::-1] for i in list]\n",
    "print (\"The reversed string list is : \" , str(res))"
   ]
  },
  {
   "cell_type": "code",
   "execution_count": 4,
   "id": "7d8c4cf7",
   "metadata": {},
   "outputs": [
    {
     "name": "stdout",
     "output_type": "stream",
     "text": [
      "['talha', 3.14, 7, 'dog']\n",
      "1\n",
      "['talha', 3.14, 'dog']\n",
      "['talha', 3.14]\n"
     ]
    }
   ],
   "source": [
    "# Question 14:\n",
    "list=[\"talha\"]\n",
    "list.append(3.14)\n",
    "list.append(7)\n",
    "list.insert(3,\"dog\")\n",
    "print(list)\n",
    "print(list.count(7))\n",
    "list.remove(7)\n",
    "print(list)\n",
    "list.pop(2)\n",
    "print(list)"
   ]
  },
  {
   "cell_type": "code",
   "execution_count": null,
   "id": "baa07954",
   "metadata": {},
   "outputs": [],
   "source": []
  }
 ],
 "metadata": {
  "kernelspec": {
   "display_name": "Python 3 (ipykernel)",
   "language": "python",
   "name": "python3"
  },
  "language_info": {
   "codemirror_mode": {
    "name": "ipython",
    "version": 3
   },
   "file_extension": ".py",
   "mimetype": "text/x-python",
   "name": "python",
   "nbconvert_exporter": "python",
   "pygments_lexer": "ipython3",
   "version": "3.11.4"
  }
 },
 "nbformat": 4,
 "nbformat_minor": 5
}
