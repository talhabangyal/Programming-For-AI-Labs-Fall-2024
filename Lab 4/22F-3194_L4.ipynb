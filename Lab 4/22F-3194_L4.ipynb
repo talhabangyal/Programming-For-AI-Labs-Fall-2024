{
 "cells": [
  {
   "cell_type": "code",
   "execution_count": 47,
   "id": "898644bd",
   "metadata": {},
   "outputs": [
    {
     "name": "stdout",
     "output_type": "stream",
     "text": [
      "My name is: Talha Bangyal. I am 20 year old. My favourite food is: Karhai\n"
     ]
    }
   ],
   "source": [
    "#Task 1\n",
    "name = \"Talha Bangyal\"\n",
    "age = 20\n",
    "favourite_food = \"Karhai\"\n",
    "\n",
    "print(f\"My name is: {name}. I am {age} year old. My favourite food is: {favourite_food}\")"
   ]
  },
  {
   "cell_type": "code",
   "execution_count": 12,
   "id": "57e7091f",
   "metadata": {},
   "outputs": [
    {
     "name": "stdout",
     "output_type": "stream",
     "text": [
      "Jon is developer  musician\n"
     ]
    }
   ],
   "source": [
    "#Task 2\n",
    "str1 = \"/*Jon is @developer & musician\"\n",
    "str = \"\"\n",
    "for i in str1:\n",
    "    if i not in [\"/\",\"*\",\"@\",\"&\"]:\n",
    "        str += i\n",
    "print(str)"
   ]
  },
  {
   "cell_type": "code",
   "execution_count": 50,
   "id": "2f2a5304",
   "metadata": {},
   "outputs": [
    {
     "name": "stdout",
     "output_type": "stream",
     "text": [
      "yaivePNT\n"
     ]
    }
   ],
   "source": [
    "#Task 3\n",
    "str = \"PyNaTive\"\n",
    "str1 = \"\"\n",
    "str2 = \"\"\n",
    "for i in str:\n",
    "    if i.islower():\n",
    "        str1 += i\n",
    "    elif i.isupper():\n",
    "        str2 += i\n",
    "s = str1 + str2\n",
    "print(s)"
   ]
  },
  {
   "cell_type": "code",
   "execution_count": 17,
   "id": "13dc61f5",
   "metadata": {},
   "outputs": [
    {
     "name": "stdout",
     "output_type": "stream",
     "text": [
      "AXbycz\n"
     ]
    }
   ],
   "source": [
    "#Task 4\n",
    "s1 = \"Abc\"\n",
    "s2 = \"Xyz\"\n",
    "str = \"\"\n",
    "count=0\n",
    "for i in s1:\n",
    "        str += i\n",
    "        str += s2[count]\n",
    "        count+=1\n",
    "print(str)"
   ]
  },
  {
   "cell_type": "code",
   "execution_count": 12,
   "id": "d394243c",
   "metadata": {},
   "outputs": [
    {
     "name": "stdout",
     "output_type": "stream",
     "text": [
      "sum is:  38\n",
      "average is: 6.333333333333333\n"
     ]
    }
   ],
   "source": [
    "#Task 5\n",
    "str = \"PYnative29@#8496\"\n",
    "sum = 0\n",
    "avg = 0\n",
    "for i in str:\n",
    "    if i.isdigit():\n",
    "        sum += int(i)\n",
    "        avg += 1\n",
    "print(\"sum is: \", sum)\n",
    "print(\"average is:\", sum / avg)"
   ]
  },
  {
   "cell_type": "code",
   "execution_count": 18,
   "id": "b4b32b35",
   "metadata": {},
   "outputs": [
    {
     "name": "stdout",
     "output_type": "stream",
     "text": [
      "Hamad\n",
      "is\n",
      "a\n",
      "data\n",
      "scientist\n"
     ]
    }
   ],
   "source": [
    "#Task 6\n",
    "str = \"Hamad-is-a-data-scientist\"\n",
    "list=str.split('-')\n",
    "for i in list:\n",
    "    print(i)"
   ]
  },
  {
   "cell_type": "code",
   "execution_count": 31,
   "id": "217b2111",
   "metadata": {},
   "outputs": [
    {
     "name": "stdout",
     "output_type": "stream",
     "text": [
      "['Emma25', 'is', 'Data', 'scientist50', 'and', 'AI', 'Expert']\n"
     ]
    }
   ],
   "source": [
    "#Task 7\n",
    "str1 = \"Emma25 is Data scientist50 and AI Expert\"\n",
    "str = str1.split(\" \")\n",
    "print(str)"
   ]
  },
  {
   "cell_type": "code",
   "execution_count": 21,
   "id": "31e9c5f8",
   "metadata": {},
   "outputs": [
    {
     "name": "stdout",
     "output_type": "stream",
     "text": [
      "##Jon is #developer # musician\n"
     ]
    }
   ],
   "source": [
    "#Task 8\n",
    "str1 = \"/*Jon is @developer & musician\"\n",
    "str = \"\"\n",
    "for i in str1:\n",
    "    if i in [\"/\",\"*\",\"@\",\"&\"]:\n",
    "        str += \"#\"\n",
    "    else:\n",
    "        str += i\n",
    "print(str)"
   ]
  },
  {
   "cell_type": "code",
   "execution_count": 28,
   "id": "522d0220",
   "metadata": {},
   "outputs": [
    {
     "name": "stdout",
     "output_type": "stream",
     "text": [
      "{'A': 1, 'p': 2, 'l': 1, 'e': 1}\n"
     ]
    }
   ],
   "source": [
    "#task 9\n",
    "str1 = \"Apple\"\n",
    "dic={\"A\":str1.count(\"A\"),\"p\":str1.count(\"p\"),\"l\":str1.count(\"l\"),\"e\":str1.count(\"e\")}\n",
    "print(dic)"
   ]
  },
  {
   "cell_type": "code",
   "execution_count": 51,
   "id": "8a2e0c5a",
   "metadata": {},
   "outputs": [],
   "source": [
    "#task 10\n",
    "# str=input(\"Enter a string: \")\n",
    "# for i in str:"
   ]
  },
  {
   "cell_type": "code",
   "execution_count": 43,
   "id": "bd7c8323",
   "metadata": {},
   "outputs": [
    {
     "name": "stdout",
     "output_type": "stream",
     "text": [
      "Enter a string: Talha Bangyal\n",
      "Enter a sub string: Talha\n",
      "Sub string is: Talha\n",
      "concatenated string is: Talha Bangyal Talha\n"
     ]
    }
   ],
   "source": [
    "#task 11\n",
    "str=input(\"Enter a string: \")\n",
    "sub_str=input(\"Enter a sub string: \")\n",
    "result=s.find(sub_str)\n",
    "str1=str+\" \"+sub_str\n",
    "print(\"Sub string is:\",sub_str)\n",
    "print(\"concatenated string is:\",str1)"
   ]
  },
  {
   "cell_type": "code",
   "execution_count": 38,
   "id": "20788f9f",
   "metadata": {},
   "outputs": [
    {
     "name": "stdout",
     "output_type": "stream",
     "text": [
      "Enter a sting to check palendrome: mam\n",
      "mam is palendrome\n"
     ]
    }
   ],
   "source": [
    "#task 12\n",
    "str=input(\"Enter a string to check palendrome: \")\n",
    "if str==str[::-1]:\n",
    "    print(str,\"is palendrome\")\n",
    "else:\n",
    "    print(str,\"is not palendrome\")"
   ]
  },
  {
   "cell_type": "code",
   "execution_count": 40,
   "id": "8999f80c",
   "metadata": {
    "scrolled": true
   },
   "outputs": [
    {
     "name": "stdout",
     "output_type": "stream",
     "text": [
      "Enter a String to rotate: Talha\n",
      "ahlaT\n"
     ]
    }
   ],
   "source": [
    "#task 13\n",
    "str=input(\"Enter a String to rotate: \")\n",
    "print(str[::-1])"
   ]
  },
  {
   "cell_type": "code",
   "execution_count": null,
   "id": "02ea5d8b",
   "metadata": {},
   "outputs": [],
   "source": [
    "#task 14"
   ]
  }
 ],
 "metadata": {
  "kernelspec": {
   "display_name": "Python 3 (ipykernel)",
   "language": "python",
   "name": "python3"
  },
  "language_info": {
   "codemirror_mode": {
    "name": "ipython",
    "version": 3
   },
   "file_extension": ".py",
   "mimetype": "text/x-python",
   "name": "python",
   "nbconvert_exporter": "python",
   "pygments_lexer": "ipython3",
   "version": "3.11.4"
  }
 },
 "nbformat": 4,
 "nbformat_minor": 5
}
