{
 "cells": [
  {
   "cell_type": "markdown",
   "id": "972a91bf-be03-4481-807e-44ff578aa935",
   "metadata": {},
   "source": [
    "#Question 1"
   ]
  },
  {
   "cell_type": "code",
   "execution_count": null,
   "id": "8c842ba1-6aa8-4e9f-a054-521b07f18f35",
   "metadata": {},
   "outputs": [],
   "source": [
    "dict={\"Mouhid\": \"Believing in One God\", \"Talha\": \"A great companion\"}\n",
    "val=0\n",
    "while(True):\n",
    "    print(\"------------------Menu--------------------- \\n1. Add words \\n2. Display words \\n3. Delete word \\n4. Search Meaning of word \\n5. Modify meaning \\n0. Exit\")\n",
    "    val=int(input(\"Enter a value: \"))\n",
    "    if val==1:\n",
    "        word=input(\"Enter a word: \")\n",
    "        meaning=input(\"Enter a word meaning: \")\n",
    "        dict[word] = meaning\n",
    "    elif val==2:\n",
    "        print(dict)\n",
    "    elif val==3:\n",
    "        word=input(\"Enter a word to delete in dictionary: \")\n",
    "        del dict[word]\n",
    "    elif val==4:\n",
    "        word = input(\"Enter a word to find meaning: \")\n",
    "        if word in dict:\n",
    "            print(word, \"meaning is: \",dict[word])\n",
    "        else:\n",
    "            print(\"Word not found in dictionary.\")\n",
    "    elif val==5:\n",
    "        modify = input(\"Enter a word to modify its meaning: \")\n",
    "        if modify in dict:\n",
    "            modify_meaning = input(\"Enter a new meaning for the given word: \")\n",
    "            dict[modify] = modify_meaning\n",
    "            print(modify,\"'s meaning has been updated.\")\n",
    "        else:\n",
    "            print(\"Word not found in dictionary!\")\n",
    "    elif val==0:\n",
    "        break"
   ]
  },
  {
   "cell_type": "markdown",
   "id": "527ece2f-e8f3-43be-a324-e9619e3f655f",
   "metadata": {},
   "source": [
    "#Question 2"
   ]
  },
  {
   "cell_type": "code",
   "execution_count": null,
   "id": "46fc152a-a47a-418f-8a09-0ee628d83f02",
   "metadata": {},
   "outputs": [],
   "source": [
    "Inventory={}\n",
    "while True:\n",
    "    print(\"\\n------------------ Inventory Control System Menu ------------------ \\n1. Add New Product \\n2. Update Product Information \\n3. Check Product Availability \\n4. Calculate Total Inventory Value \\n5. Print the inventory\\n0. Exit\")\n",
    "    val=int(input(\"Enter a value: \"))\n",
    "    if val==1:\n",
    "        product_id=int(input(\"enter a product id: \"))\n",
    "        product_name=input(\"Enter a product name: \")\n",
    "        price=float(input(\"Enter a price of item: \"))\n",
    "        quantity=int(input(\"Enter a quantity of an item: \"))\n",
    "        #Adding items in dictionary\n",
    "        Inventory[product_id]={\n",
    "            \"product_name\":product_name,\n",
    "            \"price\":price,\n",
    "            \"quantity\":quantity\n",
    "        }\n",
    "        print(\"\\nProduct is added!!\")\n",
    "    elif val==2:\n",
    "        product_id = int(input(\"Enter Product ID to update: \"))\n",
    "        \n",
    "        if product_id in Inventory:\n",
    "            price_update = input(\"Enter new Product Price (leave blank to keep current): \")\n",
    "            quantity_update = input(\"Enter new Product Quantity (leave blank to keep current): \")\n",
    "            if price_update:\n",
    "                \n",
    "                Inventory[product_id][\"price\"] = float(price_update)\n",
    "            else:\n",
    "                print(\"Price remain same!!\")\n",
    "            if quantity_update:\n",
    "                Inventory[product_id][\"quantity\"] = int(quantity_update)\n",
    "            else:\n",
    "                print(\"Quantity remain same!!\")\n",
    "                \n",
    "            print(\"Product \",Inventory[product_id]['product_name'],\" updated successfully!\")\n",
    "        else:\n",
    "            print(\"Product ID not found!\")\n",
    "    elif val==3:\n",
    "        product_id = int(input(\"Enter Product ID to check availability: \"))\n",
    "        if product_id in Inventory:\n",
    "            product = Inventory[product_id]\n",
    "            print(product['product_name'],\" Available Quantity: \", product['quantity'])\n",
    "        else:\n",
    "            print(\"Product ID not found!\")\n",
    "    elif val==4:\n",
    "        total_value = sum(i['price'] * i['quantity'] for i in Inventory.values())\n",
    "        print(\"Total Inventory Value: \",total_value)\n",
    "    elif val==5:\n",
    "        print(Inventory)\n",
    "    elif val==0:\n",
    "        break"
   ]
  },
  {
   "cell_type": "markdown",
   "id": "51378634-142f-4733-80a5-ad725427748e",
   "metadata": {},
   "source": [
    "#Question 3"
   ]
  },
  {
   "cell_type": "code",
   "execution_count": null,
   "id": "3b507449-8ba5-4817-9f72-9db8f3a6bbfc",
   "metadata": {},
   "outputs": [],
   "source": [
    "Grades={}\n",
    "while True:\n",
    "    print(\"\\n------------------ Student Grade Management Menu ------------------ \\n1. Add New Product \\n2. Update Product Information \\n3. Check Product Availability \\n4. Calculate Total Inventory Value \\n5. Print the inventory\\n0. Exit\")\n",
    "    val=int(input(\"Enter a value: \"))\n",
    "    if val==1:\n",
    "    elif val==2:\n",
    "    elif val==3:\n",
    "    elif val==4:\n",
    "    elif val==5:\n",
    "    elif val==0:\n",
    "        break"
   ]
  },
  {
   "cell_type": "markdown",
   "id": "0b7cf98c-5c22-4be9-8556-1474d6109223",
   "metadata": {},
   "source": [
    "#Question 4"
   ]
  },
  {
   "cell_type": "code",
   "execution_count": null,
   "id": "be0b7cd9-4880-49b1-bcc7-9dd8505cb71c",
   "metadata": {},
   "outputs": [],
   "source": [
    "Recipe={}\n",
    "while True:\n",
    "    print(\"\\n------------------ Recipe Book Application Menu ------------------ \\n1. Add New Product \\n2. Update Product Information \\n3. Check Product Availability \\n4. Calculate Total Inventory Value \\n5. Print the inventory\\n0. Exit\")\n",
    "    val=int(input(\"Enter a value: \"))\n",
    "    if val==1:\n",
    "    elif val==2:\n",
    "    elif val==3:\n",
    "    elif val==4:\n",
    "    elif val==5:\n",
    "    elif val==0:\n",
    "        break"
   ]
  },
  {
   "cell_type": "markdown",
   "id": "4679ed9f-c0b8-44ea-8c8d-165e8c4f9562",
   "metadata": {},
   "source": [
    "#Question 5"
   ]
  },
  {
   "cell_type": "code",
   "execution_count": null,
   "id": "06ccf9e1-30d7-4f86-b158-9fb2caba76b2",
   "metadata": {},
   "outputs": [],
   "source": []
  }
 ],
 "metadata": {
  "kernelspec": {
   "display_name": "Python 3 (ipykernel)",
   "language": "python",
   "name": "python3"
  },
  "language_info": {
   "codemirror_mode": {
    "name": "ipython",
    "version": 3
   },
   "file_extension": ".py",
   "mimetype": "text/x-python",
   "name": "python",
   "nbconvert_exporter": "python",
   "pygments_lexer": "ipython3",
   "version": "3.12.4"
  }
 },
 "nbformat": 4,
 "nbformat_minor": 5
}
